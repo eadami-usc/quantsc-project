{
 "cells": [
  {
   "cell_type": "markdown",
   "id": "aeccf55b",
   "metadata": {},
   "source": [
    "QuantSC Capstone Project"
   ]
  },
  {
   "cell_type": "code",
   "execution_count": 10,
   "id": "8d578203",
   "metadata": {},
   "outputs": [],
   "source": [
    "# 1. Imports & Setup\n",
    "import pandas as pd\n",
    "import numpy as np\n",
    "import yfinance as yf\n",
    "import statsmodels.api as sm\n",
    "import matplotlib.pyplot as plt\n",
    "from sklearn.linear_model import LassoCV\n",
    "from sklearn.preprocessing import StandardScaler"
   ]
  },
  {
   "cell_type": "code",
   "execution_count": 11,
   "id": "65eccd1f",
   "metadata": {},
   "outputs": [
    {
     "name": "stderr",
     "output_type": "stream",
     "text": [
      "[*********************100%***********************]  1 of 1 completed\n",
      "[*********************100%***********************]  1 of 1 completed\n"
     ]
    }
   ],
   "source": [
    "# 2. Load Stock and Market Data\n",
    "def fetch_stock_data(ticker, start, end):\n",
    "    df = yf.download(ticker, start=start, end=end)\n",
    "    if 'Adj Close' in df.columns:\n",
    "        df['log_return'] = np.log(df['Adj Close'] / df['Adj Close'].shift(1))\n",
    "        df = df[['Adj Close', 'log_return']].dropna()\n",
    "    else:\n",
    "        df['log_return'] = np.log(df['Close'] / df['Close'].shift(1))\n",
    "        df = df[['Close', 'log_return']].dropna()\n",
    "    return df\n",
    "\n",
    "stock = fetch_stock_data(\"PFE\", \"2010-01-01\", \"2022-12-31\")\n",
    "market = fetch_stock_data(\"^GSPC\", \"2010-01-01\", \"2022-12-31\")\n"
   ]
  },
  {
   "cell_type": "code",
   "execution_count": 12,
   "id": "9f8da625",
   "metadata": {},
   "outputs": [
    {
     "name": "stderr",
     "output_type": "stream",
     "text": [
      "/var/folders/0v/fjbdxkg50fb2sr15z6pjfl9c0000gn/T/ipykernel_69987/3409268164.py:7: FutureWarning: Series.__getitem__ treating keys as positions is deprecated. In a future version, integer keys will always be treated as labels (consistent with DataFrame behavior). To access a value by position, use `ser.iloc[pos]`\n",
      "  return model.params[1]\n"
     ]
    }
   ],
   "source": [
    "# 3. CAPM Market Adjustment\n",
    "def compute_beta(stock_ret, market_ret):\n",
    "    aligned = pd.concat([stock_ret, market_ret], axis=1).dropna()\n",
    "    X = sm.add_constant(aligned.iloc[:, 1])\n",
    "    y = aligned.iloc[:, 0]\n",
    "    model = sm.OLS(y, X).fit()\n",
    "    return model.params[1]\n",
    "\n",
    "def compute_market_adjusted_return(stock_ret, market_ret, beta):\n",
    "    return stock_ret - beta * market_ret\n",
    "\n",
    "beta = compute_beta(stock['log_return'], market['log_return'])\n",
    "stock['adj_return'] = compute_market_adjusted_return(stock['log_return'], market['log_return'], beta)\n"
   ]
  },
  {
   "cell_type": "code",
   "execution_count": 13,
   "id": "afaaad0e",
   "metadata": {},
   "outputs": [],
   "source": [
    "# 4. Compute Monthly Drift and Volatility\n",
    "stock['year_month'] = stock.index.to_period('M')\n",
    "monthly_stats = stock.groupby('year_month')['adj_return'].agg(['mean', 'std'])\n",
    "monthly_stats.columns = ['drift', 'volatility']\n",
    "monthly_stats.index = monthly_stats.index.to_timestamp()\n"
   ]
  },
  {
   "cell_type": "code",
   "execution_count": 14,
   "id": "cee5a600",
   "metadata": {},
   "outputs": [
    {
     "name": "stdout",
     "output_type": "stream",
     "text": [
      "Available columns in the CSV file: Index(['Company', 'Ticker', 'Patent Number', 'Date', 'Title'], dtype='object')\n",
      "The following required columns are missing in the CSV file: ['num_patents', 'num_categories', 'num_new_categories']. They will be filled with default values (0).\n"
     ]
    }
   ],
   "source": [
    "# 5. Load Patent Data\n",
    "# Ensure the column name matches the actual column in the CSV file\n",
    "patents = pd.read_csv(\"biopharma_patent_assignments.csv\")\n",
    "\n",
    "# Check if the 'date' column exists and rename or parse it if necessary\n",
    "print(\"Available columns in the CSV file:\", patents.columns)\n",
    "if 'date' in patents.columns:\n",
    "\tpatents['date'] = pd.to_datetime(patents['date'])\n",
    "elif 'Date' in patents.columns:  # Handle case sensitivity or alternative column names\n",
    "\tpatents['date'] = pd.to_datetime(patents['Date'])\n",
    "else:\n",
    "\traise ValueError(\"The 'date' column is missing in the CSV file. Please check the column names.\")\n",
    "patents['month'] = patents['date'].dt.to_period('M')\n",
    "# Check if the required columns exist in the DataFrame\n",
    "required_columns = ['num_patents', 'num_categories', 'num_new_categories']\n",
    "missing_columns = [col for col in required_columns if col not in patents.columns]\n",
    "\n",
    "# Handle missing columns by creating them with default values\n",
    "if missing_columns:\n",
    "\tprint(f\"The following required columns are missing in the CSV file: {missing_columns}. They will be filled with default values (0).\")\n",
    "\tfor col in missing_columns:\n",
    "\t\tpatents[col] = 0\n",
    "\n",
    "monthly_patents = patents.groupby('month')[required_columns].sum()\n",
    "monthly_patents.index = monthly_patents.index.to_timestamp()\n"
   ]
  },
  {
   "cell_type": "code",
   "execution_count": 15,
   "id": "c2eeeb31",
   "metadata": {},
   "outputs": [],
   "source": [
    "# 6. Merge Datasets\n",
    "df = monthly_stats.join(monthly_patents, how='inner').dropna()\n",
    "features = ['num_patents', 'num_categories', 'num_new_categories']\n",
    "target_drift = df['drift']\n",
    "target_volatility = df['volatility']\n"
   ]
  },
  {
   "cell_type": "code",
   "execution_count": 16,
   "id": "1e439982",
   "metadata": {},
   "outputs": [
    {
     "name": "stdout",
     "output_type": "stream",
     "text": [
      "Input data is empty. Ensure 'df', 'target_drift', and 'target_volatility' contain valid data.\n"
     ]
    }
   ],
   "source": [
    "# 7. Lagged Regression with OLS\n",
    "def create_lagged_features(df, features, max_lag):\n",
    "    df_lagged = pd.DataFrame(index=df.index)\n",
    "    for feature in features:\n",
    "        for lag in range(max_lag + 1):\n",
    "            df_lagged[f'{feature}_lag{lag}'] = df[feature].shift(lag)\n",
    "    return df_lagged.dropna()\n",
    "\n",
    "# Ensure the input data is not empty\n",
    "if not df.empty and not target_drift.empty and not target_volatility.empty:\n",
    "    X_lagged = create_lagged_features(df, features, max_lag=3)\n",
    "    y_drift = target_drift.loc[X_lagged.index]\n",
    "    y_vol = target_volatility.loc[X_lagged.index]\n",
    "\n",
    "    if not X_lagged.empty and not y_drift.empty and not y_vol.empty:\n",
    "        X_lagged_const = sm.add_constant(X_lagged)\n",
    "        drift_model = sm.OLS(y_drift, X_lagged_const).fit()\n",
    "        vol_model = sm.OLS(y_vol, X_lagged_const).fit()\n",
    "\n",
    "        print(drift_model.summary())\n",
    "        print(vol_model.summary())\n",
    "    else:\n",
    "        print(\"Lagged features or target variables are empty. Cannot perform regression.\")\n",
    "else:\n",
    "    print(\"Input data is empty. Ensure 'df', 'target_drift', and 'target_volatility' contain valid data.\")\n"
   ]
  },
  {
   "cell_type": "code",
   "execution_count": 17,
   "id": "040d5d14",
   "metadata": {},
   "outputs": [
    {
     "name": "stdout",
     "output_type": "stream",
     "text": [
      "X_lagged is empty. Cannot perform scaling or Lasso regression.\n"
     ]
    }
   ],
   "source": [
    "# 8. Lasso Regression (optional for feature selection)\n",
    "# Ensure X_lagged is defined and not empty before proceeding\n",
    "if 'X_lagged' not in locals():\n",
    "\tX_lagged = create_lagged_features(df, features, max_lag=3)\n",
    "\n",
    "if not X_lagged.empty:\n",
    "\tscaler = StandardScaler()\n",
    "\tX_scaled = scaler.fit_transform(X_lagged)\n",
    "\n",
    "\tif not y_drift.empty:\n",
    "\t\tlasso_drift = LassoCV(cv=5).fit(X_scaled, y_drift)\n",
    "\t\tprint(\"Lasso - Drift Coefficients:\", lasso_drift.coef_)\n",
    "\telse:\n",
    "\t\tprint(\"y_drift is empty. Cannot perform Lasso regression for drift.\")\n",
    "\n",
    "\tif not y_vol.empty:\n",
    "\t\tlasso_vol = LassoCV(cv=5).fit(X_scaled, y_vol)\n",
    "\t\tprint(\"Lasso - Volatility Coefficients:\", lasso_vol.coef_)\n",
    "\telse:\n",
    "\t\tprint(\"y_vol is empty. Cannot perform Lasso regression for volatility.\")\n",
    "else:\n",
    "\tprint(\"X_lagged is empty. Cannot perform scaling or Lasso regression.\")\n"
   ]
  },
  {
   "cell_type": "code",
   "execution_count": 18,
   "id": "435abbc4",
   "metadata": {},
   "outputs": [
    {
     "data": {
      "image/png": "[encoded data removed]",
      "text/plain": [
       "<Figure size 1200x600 with 2 Axes>"
      ]
     },
     "metadata": {},
     "output_type": "display_data"
    }
   ],
   "source": [
    "# 9. Visualization\n",
    "fig, axs = plt.subplots(2, 1, figsize=(12, 6))\n",
    "axs[0].plot(df.index, df['drift'], label='Drift')\n",
    "axs[0].set_title(\"Monthly Drift\")\n",
    "axs[1].plot(df.index, df['volatility'], label='Volatility', color='orange')\n",
    "axs[1].set_title(\"Monthly Volatility\")\n",
    "plt.tight_layout()\n",
    "plt.show()\n"
   ]
  }
 ],
 "metadata": {
  "kernelspec": {
   "display_name": "base",
   "language": "python",
   "name": "python3"
  },
  "language_info": {
   "codemirror_mode": {
    "name": "ipython",
    "version": 3
   },
   "file_extension": ".py",
   "mimetype": "text/x-python",
   "name": "python",
   "nbconvert_exporter": "python",
   "pygments_lexer": "ipython3",
   "version": "3.12.7"
  }
 },
 "nbformat": 4,
 "nbformat_minor": 5
}
