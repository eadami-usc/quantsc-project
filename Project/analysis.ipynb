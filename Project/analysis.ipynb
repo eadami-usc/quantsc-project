{
 "cells": [
  {
   "cell_type": "markdown",
   "id": "aeccf55b",
   "metadata": {},
   "source": [
    "QuantSC Capstone Project"
   ]
  },
  {
   "cell_type": "code",
   "execution_count": null,
   "id": "8d578203",
   "metadata": {},
   "outputs": [
    {
     "name": "stdout",
     "output_type": "stream",
     "text": [
      "Requirement already satisfied: yfinance in /opt/anaconda3/lib/python3.12/site-packages (0.2.55)\n",
      "Requirement already satisfied: pandas>=1.3.0 in /opt/anaconda3/lib/python3.12/site-packages (from yfinance) (2.2.3)\n",
      "Requirement already satisfied: numpy>=1.16.5 in /opt/anaconda3/lib/python3.12/site-packages (from yfinance) (1.26.4)\n",
      "Requirement already satisfied: requests>=2.31 in /opt/anaconda3/lib/python3.12/site-packages (from yfinance) (2.32.3)\n",
      "Requirement already satisfied: multitasking>=0.0.7 in /opt/anaconda3/lib/python3.12/site-packages (from yfinance) (0.0.11)\n",
      "Requirement already satisfied: platformdirs>=2.0.0 in /opt/anaconda3/lib/python3.12/site-packages (from yfinance) (3.10.0)\n",
      "Requirement already satisfied: pytz>=2022.5 in /opt/anaconda3/lib/python3.12/site-packages (from yfinance) (2024.2)\n",
      "Requirement already satisfied: frozendict>=2.3.4 in /opt/anaconda3/lib/python3.12/site-packages (from yfinance) (2.4.2)\n",
      "Requirement already satisfied: peewee>=3.16.2 in /opt/anaconda3/lib/python3.12/site-packages (from yfinance) (3.17.9)\n",
      "Requirement already satisfied: beautifulsoup4>=4.11.1 in /opt/anaconda3/lib/python3.12/site-packages (from yfinance) (4.12.3)\n",
      "Requirement already satisfied: soupsieve>1.2 in /opt/anaconda3/lib/python3.12/site-packages (from beautifulsoup4>=4.11.1->yfinance) (2.5)\n",
      "Requirement already satisfied: python-dateutil>=2.8.2 in /opt/anaconda3/lib/python3.12/site-packages (from pandas>=1.3.0->yfinance) (2.9.0.post0)\n",
      "Requirement already satisfied: tzdata>=2022.7 in /opt/anaconda3/lib/python3.12/site-packages (from pandas>=1.3.0->yfinance) (2025.1)\n",
      "Requirement already satisfied: charset-normalizer<4,>=2 in /opt/anaconda3/lib/python3.12/site-packages (from requests>=2.31->yfinance) (3.4.1)\n",
      "Requirement already satisfied: idna<4,>=2.5 in /opt/anaconda3/lib/python3.12/site-packages (from requests>=2.31->yfinance) (3.10)\n",
      "Requirement already satisfied: urllib3<3,>=1.21.1 in /opt/anaconda3/lib/python3.12/site-packages (from requests>=2.31->yfinance) (2.3.0)\n",
      "Requirement already satisfied: certifi>=2017.4.17 in /opt/anaconda3/lib/python3.12/site-packages (from requests>=2.31->yfinance) (2024.12.14)\n",
      "Requirement already satisfied: six>=1.5 in /opt/anaconda3/lib/python3.12/site-packages (from python-dateutil>=2.8.2->pandas>=1.3.0->yfinance) (1.17.0)\n",
      "Note: you may need to restart the kernel to use updated packages.\n"
     ]
    }
   ],
   "source": [
    "# 1. Imports & Setup\n",
    "import pandas as pd\n",
    "import numpy as np\n",
    "# Install yfinance if not already installed\n",
    "%pip install yfinance\n",
    "\n",
    "import yfinance as yf\n",
    "import statsmodels.api as sm\n",
    "import matplotlib.pyplot as plt\n",
    "from sklearn.linear_model import LassoCV\n",
    "from sklearn.preprocessing import StandardScaler"
   ]
  },
  {
   "cell_type": "code",
   "execution_count": null,
   "id": "65eccd1f",
   "metadata": {},
   "outputs": [],
   "source": [
    "# 2. Load Stock and Market Data\n",
    "def fetch_stock_data(ticker, start, end):\n",
    "    df = yf.download(ticker, start=start, end=end)\n",
    "    df['log_return'] = np.log(df['Adj Close'] / df['Adj Close'].shift(1))\n",
    "    df = df[['Adj Close', 'log_return']].dropna()\n",
    "    return df\n",
    "\n",
    "stock = fetch_stock_data(\"PFE\", \"2010-01-01\", \"2022-12-31\")\n",
    "market = fetch_stock_data(\"^GSPC\", \"2010-01-01\", \"2022-12-31\")\n"
   ]
  },
  {
   "cell_type": "code",
   "execution_count": null,
   "id": "9f8da625",
   "metadata": {},
   "outputs": [],
   "source": [
    "# 3. CAPM Market Adjustment\n",
    "def compute_beta(stock_ret, market_ret):\n",
    "    aligned = pd.concat([stock_ret, market_ret], axis=1).dropna()\n",
    "    X = sm.add_constant(aligned.iloc[:, 1])\n",
    "    y = aligned.iloc[:, 0]\n",
    "    model = sm.OLS(y, X).fit()\n",
    "    return model.params[1]\n",
    "\n",
    "def compute_market_adjusted_return(stock_ret, market_ret, beta):\n",
    "    return stock_ret - beta * market_ret\n",
    "\n",
    "beta = compute_beta(stock['log_return'], market['log_return'])\n",
    "stock['adj_return'] = compute_market_adjusted_return(stock['log_return'], market['log_return'], beta)\n"
   ]
  },
  {
   "cell_type": "code",
   "execution_count": null,
   "id": "afaaad0e",
   "metadata": {},
   "outputs": [],
   "source": [
    "# 4. Compute Monthly Drift and Volatility\n",
    "stock['year_month'] = stock.index.to_period('M')\n",
    "monthly_stats = stock.groupby('year_month')['adj_return'].agg(['mean', 'std'])\n",
    "monthly_stats.columns = ['drift', 'volatility']\n",
    "monthly_stats.index = monthly_stats.index.to_timestamp()\n"
   ]
  },
  {
   "cell_type": "code",
   "execution_count": null,
   "id": "cee5a600",
   "metadata": {},
   "outputs": [],
   "source": [
    "# 5. Load Patent Data\n",
    "patents = pd.read_csv(\"biopharma_patent_assignments.csv\", parse_dates=['date'])\n",
    "patents['month'] = patents['date'].dt.to_period('M')\n",
    "monthly_patents = patents.groupby('month')[['num_patents', 'num_categories', 'num_new_categories']].sum()\n",
    "monthly_patents.index = monthly_patents.index.to_timestamp()\n"
   ]
  },
  {
   "cell_type": "code",
   "execution_count": null,
   "id": "c2eeeb31",
   "metadata": {},
   "outputs": [],
   "source": [
    "# 6. Merge Datasets\n",
    "df = monthly_stats.join(monthly_patents, how='inner').dropna()\n",
    "features = ['num_patents', 'num_categories', 'num_new_categories']\n",
    "target_drift = df['drift']\n",
    "target_volatility = df['volatility']\n"
   ]
  },
  {
   "cell_type": "code",
   "execution_count": null,
   "id": "1e439982",
   "metadata": {},
   "outputs": [],
   "source": [
    "# 7. Lagged Regression with OLS\n",
    "def create_lagged_features(df, features, max_lag):\n",
    "    df_lagged = pd.DataFrame(index=df.index)\n",
    "    for feature in features:\n",
    "        for lag in range(max_lag + 1):\n",
    "            df_lagged[f'{feature}_lag{lag}'] = df[feature].shift(lag)\n",
    "    return df_lagged.dropna()\n",
    "\n",
    "X_lagged = create_lagged_features(df, features, max_lag=3)\n",
    "y_drift = target_drift.loc[X_lagged.index]\n",
    "y_vol = target_volatility.loc[X_lagged.index]\n",
    "\n",
    "X_lagged_const = sm.add_constant(X_lagged)\n",
    "drift_model = sm.OLS(y_drift, X_lagged_const).fit()\n",
    "vol_model = sm.OLS(y_vol, X_lagged_const).fit()\n",
    "\n",
    "print(drift_model.summary())\n",
    "print(vol_model.summary())\n"
   ]
  },
  {
   "cell_type": "code",
   "execution_count": null,
   "id": "040d5d14",
   "metadata": {},
   "outputs": [],
   "source": [
    "# 8. Lasso Regression (optional for feature selection)\n",
    "scaler = StandardScaler()\n",
    "X_scaled = scaler.fit_transform(X_lagged)\n",
    "\n",
    "lasso_drift = LassoCV(cv=5).fit(X_scaled, y_drift)\n",
    "lasso_vol = LassoCV(cv=5).fit(X_scaled, y_vol)\n",
    "\n",
    "print(\"Lasso - Drift Coefficients:\", lasso_drift.coef_)\n",
    "print(\"Lasso - Volatility Coefficients:\", lasso_vol.coef_)\n"
   ]
  },
  {
   "cell_type": "code",
   "execution_count": null,
   "id": "435abbc4",
   "metadata": {},
   "outputs": [],
   "source": [
    "# 9. Visualization\n",
    "fig, axs = plt.subplots(2, 1, figsize=(12, 6))\n",
    "axs[0].plot(df.index, df['drift'], label='Drift')\n",
    "axs[0].set_title(\"Monthly Drift\")\n",
    "axs[1].plot(df.index, df['volatility'], label='Volatility', color='orange')\n",
    "axs[1].set_title(\"Monthly Volatility\")\n",
    "plt.tight_layout()\n",
    "plt.show()\n"
   ]
  }
 ],
 "metadata": {
  "kernelspec": {
   "display_name": "base",
   "language": "python",
   "name": "python3"
  },
  "language_info": {
   "codemirror_mode": {
    "name": "ipython",
    "version": 3
   },
   "file_extension": ".py",
   "mimetype": "text/x-python",
   "name": "python",
   "nbconvert_exporter": "python",
   "pygments_lexer": "ipython3",
   "version": "3.12.7"
  }
 },
 "nbformat": 4,
 "nbformat_minor": 5
}
